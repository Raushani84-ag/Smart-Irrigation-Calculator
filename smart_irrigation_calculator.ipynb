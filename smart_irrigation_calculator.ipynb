{
 "cells": [
  {
   "cell_type": "markdown",
   "id": "6420491c-9430-4297-bcd8-cec30f9869de",
   "metadata": {},
   "source": [
    "**In irrigation planning, Crop Water Requirement (WR) is the amount of water (in mm/day) needed for a crop to grow properly.**\n",
    "\n",
    "It depends on 3 main factors:\n",
    "\n",
    "Area (ha) – how much land the crop occupies\n",
    "\n",
    "Crop Coefficient (Kc) – how thirsty the crop is (each crop has its own Kc)\n",
    "\n",
    "Evapotranspiration (ET₀) – how much water is lost due to evaporation and plant use (can come from weather data)\n",
    "\n"
   ]
  },
  {
   "cell_type": "code",
   "execution_count": 19,
   "id": "92ed74d1-202a-4591-95e1-082c7de742d6",
   "metadata": {},
   "outputs": [],
   "source": [
    "# Writing simple logic \n",
    "def water_requirement(area_ha,crop_coeff, et):\n",
    "    IR= area_ha*crop_coeff* et\n",
    "    return f\"Water Requirement : {round(IR,2)} mm/day\"\n",
    "    "
   ]
  },
  {
   "cell_type": "code",
   "execution_count": 20,
   "id": "8585383f-3de8-4515-85eb-c46487edc576",
   "metadata": {},
   "outputs": [
    {
     "data": {
      "text/plain": [
       "'Water Requirement : 0.53 mm/day'"
      ]
     },
     "execution_count": 20,
     "metadata": {},
     "output_type": "execute_result"
    }
   ],
   "source": [
    "water_requirement(2, .78, .34)"
   ]
  },
  {
   "cell_type": "markdown",
   "id": "39b4e485-caf2-4fc1-b0cb-55ac9b9c1fc7",
   "metadata": {},
   "source": [
    "## Smart Water Requirement Calculator ##"
   ]
  },
  {
   "cell_type": "code",
   "execution_count": 17,
   "id": "320f37bf-d2f8-4b15-bea6-ea2bce52a9f0",
   "metadata": {},
   "outputs": [],
   "source": [
    "def water_requirement (area_ha , crop_name, et):\n",
    "    crop_kc ={\n",
    "        'wheat' : 1.15,\n",
    "        'rice' : 1.35,\n",
    "        'maize' : 1.17,\n",
    "        'soybean' : 1.08,\n",
    "        'potato' : 1.12\n",
    "    }\n",
    "    try:\n",
    "        area_ha= float(area_ha)\n",
    "        et = float(et)\n",
    "        crop_name = crop_name.lower()\n",
    "        if crop_name in crop_kc:\n",
    "            crop_coeff= crop_kc[crop_name]\n",
    "            if area_ha >0 and et >0:\n",
    "                WR = area_ha*crop_coeff*et\n",
    "                return f\" Irrigation Requirement  : {round(WR, 2)}mm/day\"\n",
    "            else:\n",
    "                return f\"Error: All values must be postive\"\n",
    "            \n",
    "        else:\n",
    "            user_kc= float(input(f\" Crop'{crop_name}' not found. \\n Enter crop coefficient manually:\"))\n",
    "            WR =   WR = area_ha*user_kc*et\n",
    "            return  f\" Irrigation Requirement  : {round(WR, 2)}mm/day\"\n",
    "        \n",
    "    except ValueError:\n",
    "        return f\" Error : Enter numeric and valid data only\"\n",
    "    "
   ]
  },
  {
   "cell_type": "code",
   "execution_count": 18,
   "id": "9f45370b-3e36-44c1-b6e9-49537f28f6e5",
   "metadata": {},
   "outputs": [
    {
     "name": "stdout",
     "output_type": "stream",
     "text": [
      " Irrigation Requirement  : 36.05mm/day\n"
     ]
    }
   ],
   "source": [
    "WR =water_requirement(30 , \"Rice\", .89)\n",
    "print(WR)\n"
   ]
  }
 ],
 "metadata": {
  "kernelspec": {
   "display_name": "Python 3 (ipykernel)",
   "language": "python",
   "name": "python3"
  },
  "language_info": {
   "codemirror_mode": {
    "name": "ipython",
    "version": 3
   },
   "file_extension": ".py",
   "mimetype": "text/x-python",
   "name": "python",
   "nbconvert_exporter": "python",
   "pygments_lexer": "ipython3",
   "version": "3.13.3"
  }
 },
 "nbformat": 4,
 "nbformat_minor": 5
}
